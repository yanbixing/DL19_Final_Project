{
 "cells": [
  {
   "cell_type": "markdown",
   "metadata": {},
   "source": [
    "# Output"
   ]
  },
  {
   "attachments": {
    "53ee78ae0b7b656299720a73aef7ad016cb952a0.png": {
     "image/png": "[encoded data removed]"
    }
   },
   "cell_type": "markdown",
   "metadata": {},
   "source": [
    "http://deeplearning.net/software/theano/tutorial/conv_arithmetic.html\n",
    "\n",
    "https://github.com/vlfeat/matconvnet/issues/1010\n",
    "\n",
    "dilation rate: d\n",
    "\n",
    "![53ee78ae0b7b656299720a73aef7ad016cb952a0.png](attachment:53ee78ae0b7b656299720a73aef7ad016cb952a0.png)"
   ]
  },
  {
   "cell_type": "code",
   "execution_count": 2,
   "metadata": {},
   "outputs": [],
   "source": [
    "def cal_osize(i=0,p=0,k=0,d=1,s=1):\n",
    "    '''\n",
    "    i: input\n",
    "    p: padding\n",
    "    k: kernal_size\n",
    "    d: dilation_rate\n",
    "    s: stride\n",
    "    '''\n",
    "    return (i+2*p-k-(k-1)*(d-1))/s+1"
   ]
  },
  {
   "attachments": {
    "image.png": {
     "image/png": "[encoded data removed]"
    }
   },
   "cell_type": "markdown",
   "metadata": {},
   "source": [
    "### Conv2dTranspose\n",
    "\n",
    "https://blog.csdn.net/qq_25964837/article/details/83652445\n",
    "\n",
    "![image.png](attachment:image.png)"
   ]
  },
  {
   "cell_type": "code",
   "execution_count": 3,
   "metadata": {},
   "outputs": [],
   "source": [
    "def cal_deconv_osize(i=0,p=0,k=0,d=1,s=1):\n",
    "    '''\n",
    "    i: input\n",
    "    p: padding\n",
    "    k: kernal_size\n",
    "    #d: dilation_rate\n",
    "    #op: outputpadding\n",
    "    s: stride\n",
    "    '''\n",
    "    return (i-1)*s - 2*p +k#(i+2*p-k-(k-1)*(d-1))/s+1"
   ]
  },
  {
   "cell_type": "markdown",
   "metadata": {},
   "source": [
    "### VGG-11"
   ]
  },
  {
   "cell_type": "code",
   "execution_count": 28,
   "metadata": {},
   "outputs": [],
   "source": [
    "def vgg_11_size_cal(image_size):\n",
    "    vgg_11_size_dict={}\n",
    "    vgg_11_size_dict['image_input']=image_size\n",
    "    vgg_11_size_dict['conv_1']=cal_osize(i=vgg_11_size_dict['image_input'],p=1,s=1,k=3)\n",
    "    vgg_11_size_dict['maxpool_conv_1']=cal_osize(i=vgg_11_size_dict['conv_1'],k=2,s=2,p=0,d=1)\n",
    "    vgg_11_size_dict['conv_2']=cal_osize(i=vgg_11_size_dict['maxpool_conv_1'],k=3,s=1,p=1)\n",
    "    vgg_11_size_dict['maxpool_conv_2']=cal_osize(i=vgg_11_size_dict['conv_2'],k=2,s=2,p=0,d=1)\n",
    "    vgg_11_size_dict['conv_3']=cal_osize(i=vgg_11_size_dict['maxpool_conv_2'],k=3,s=1,p=1)\n",
    "    vgg_11_size_dict['conv_4']=cal_osize(i=vgg_11_size_dict['conv_3'],k=3,s=1,p=1)\n",
    "    vgg_11_size_dict['maxpool_conv_4']=cal_osize(i=vgg_11_size_dict['conv_4'],k=2,s=2,p=0,d=1)\n",
    "    vgg_11_size_dict['conv_5']=cal_osize(i=vgg_11_size_dict['maxpool_conv_4'],k=3,s=1,p=1)\n",
    "    vgg_11_size_dict['conv_6']=cal_osize(i=vgg_11_size_dict['conv_5'],k=3,s=1,p=1)\n",
    "    vgg_11_size_dict['maxpool_conv_6']=cal_osize(i=vgg_11_size_dict['conv_6'],k=2,s=2,p=0,d=1)\n",
    "    vgg_11_size_dict['conv_7']=cal_osize(i=vgg_11_size_dict['maxpool_conv_6'],k=3,s=1,p=1)\n",
    "    vgg_11_size_dict['conv_8']=cal_osize(i=vgg_11_size_dict['conv_7'],k=3,s=1,p=1)\n",
    "    vgg_11_size_dict['maxpool_conv_8']=cal_osize(i=vgg_11_size_dict['conv_8'],k=2,s=2,p=0,d=1)\n",
    "\n",
    "    vgg_11_size_dict['fc_input'] = vgg_11_size_dict['maxpool_conv_8']**2*512 # 512 channels\n",
    "    return vgg_11_size_dict"
   ]
  },
  {
   "cell_type": "code",
   "execution_count": 35,
   "metadata": {},
   "outputs": [
    {
     "data": {
      "text/plain": [
       "{'image_input': 224,\n",
       " 'conv_1': 224.0,\n",
       " 'maxpool_conv_1': 112.0,\n",
       " 'conv_2': 112.0,\n",
       " 'maxpool_conv_2': 56.0,\n",
       " 'conv_3': 56.0,\n",
       " 'conv_4': 56.0,\n",
       " 'maxpool_conv_4': 28.0,\n",
       " 'conv_5': 28.0,\n",
       " 'conv_6': 28.0,\n",
       " 'maxpool_conv_6': 14.0,\n",
       " 'conv_7': 14.0,\n",
       " 'conv_8': 14.0,\n",
       " 'maxpool_conv_8': 7.0,\n",
       " 'fc_input': 25088.0}"
      ]
     },
     "execution_count": 35,
     "metadata": {},
     "output_type": "execute_result"
    }
   ],
   "source": [
    "vgg_11_size_cal(224)"
   ]
  },
  {
   "cell_type": "code",
   "execution_count": 4,
   "metadata": {},
   "outputs": [
    {
     "data": {
      "text/plain": [
       "14"
      ]
     },
     "execution_count": 4,
     "metadata": {},
     "output_type": "execute_result"
    }
   ],
   "source": [
    "cal_deconv_osize(i=7,p=0,k=2,s=2)"
   ]
  },
  {
   "cell_type": "code",
   "execution_count": 5,
   "metadata": {},
   "outputs": [
    {
     "data": {
      "text/plain": [
       "14"
      ]
     },
     "execution_count": 5,
     "metadata": {},
     "output_type": "execute_result"
    }
   ],
   "source": [
    "cal_deconv_osize(i=14,k=3,p=1,s=1)"
   ]
  },
  {
   "cell_type": "code",
   "execution_count": 9,
   "metadata": {},
   "outputs": [],
   "source": [
    "def vgg_11_deconv_size_cal(feature_size):\n",
    "    vgg_11_denconv_size_dict={}\n",
    "    vgg_11_denconv_size_dict['feature_size']=feature_size\n",
    "    vgg_11_denconv_size_dict['deconv_8']=cal_deconv_osize(i=vgg_11_denconv_size_dict['feature_size'],k=2,p=0,s=2)\n",
    "    vgg_11_denconv_size_dict['deconv_7']=cal_deconv_osize(i=vgg_11_denconv_size_dict['deconv_8'],k=3,p=1,s=1)\n",
    "    vgg_11_denconv_size_dict['deconv_6']=cal_deconv_osize(i=vgg_11_denconv_size_dict['deconv_7'],k=2,p=0,s=2)\n",
    "    vgg_11_denconv_size_dict['deconv_5']=cal_deconv_osize(i=vgg_11_denconv_size_dict['deconv_6'],k=3,p=1,s=1)\n",
    "    vgg_11_denconv_size_dict['deconv_4']=cal_deconv_osize(i=vgg_11_denconv_size_dict['deconv_5'],k=2,p=0,s=2)\n",
    "    vgg_11_denconv_size_dict['deconv_3']=cal_deconv_osize(i=vgg_11_denconv_size_dict['deconv_4'],k=3,p=1,s=1)\n",
    "    vgg_11_denconv_size_dict['deconv_2']=cal_deconv_osize(i=vgg_11_denconv_size_dict['deconv_3'],k=2,p=0,s=2)\n",
    "    vgg_11_denconv_size_dict['deconv_1']=cal_deconv_osize(i=vgg_11_denconv_size_dict['deconv_2'],k=2,p=0,s=2)\n",
    "    #vgg_11_denconv_size_dict['rec_image_size']=cal_deconv_osize(i=vgg_11_denconv_size_dict['deconv_1'],p=0,k=2,s=2)\n",
    "    \n",
    "    \n",
    "    return vgg_11_denconv_size_dict"
   ]
  },
  {
   "cell_type": "code",
   "execution_count": 11,
   "metadata": {},
   "outputs": [
    {
     "data": {
      "text/plain": [
       "{'feature_size': 3,\n",
       " 'deconv_8': 6,\n",
       " 'deconv_7': 6,\n",
       " 'deconv_6': 12,\n",
       " 'deconv_5': 12,\n",
       " 'deconv_4': 24,\n",
       " 'deconv_3': 24,\n",
       " 'deconv_2': 48,\n",
       " 'deconv_1': 96}"
      ]
     },
     "execution_count": 11,
     "metadata": {},
     "output_type": "execute_result"
    }
   ],
   "source": [
    "vgg_11_deconv_size_cal(3)"
   ]
  },
  {
   "cell_type": "markdown",
   "metadata": {},
   "source": [
    "why 4096 neurons?\n",
    "\n",
    "For convlution layer, you can calculate the number of neurons, it is a certain number.\n",
    "\n",
    "where does the 4096 number come from.\n",
    "\n",
    "Is there some rule on How many features we need to use? "
   ]
  },
  {
   "cell_type": "code",
   "execution_count": 33,
   "metadata": {},
   "outputs": [
    {
     "data": {
      "text/plain": [
       "{'image_input': 96,\n",
       " 'conv_1': 96.0,\n",
       " 'maxpool_conv_1': 48.0,\n",
       " 'conv_2': 48.0,\n",
       " 'maxpool_conv_2': 24.0,\n",
       " 'conv_3': 24.0,\n",
       " 'conv_4': 24.0,\n",
       " 'maxpool_conv_4': 12.0,\n",
       " 'conv_5': 12.0,\n",
       " 'conv_6': 12.0,\n",
       " 'maxpool_conv_6': 6.0,\n",
       " 'conv_7': 6.0,\n",
       " 'conv_8': 6.0,\n",
       " 'maxpool_conv_8': 3.0,\n",
       " 'fc_input': 4608.0}"
      ]
     },
     "execution_count": 33,
     "metadata": {},
     "output_type": "execute_result"
    }
   ],
   "source": [
    "vgg_11_size_cal(96)"
   ]
  },
  {
   "cell_type": "code",
   "execution_count": 34,
   "metadata": {},
   "outputs": [
    {
     "data": {
      "text/plain": [
       "2.3333333333333335"
      ]
     },
     "execution_count": 34,
     "metadata": {},
     "output_type": "execute_result"
    }
   ],
   "source": [
    "224/96"
   ]
  },
  {
   "cell_type": "code",
   "execution_count": 36,
   "metadata": {},
   "outputs": [
    {
     "data": {
      "text/plain": [
       "_StoreAction(option_strings=['--save'], dest='save', nargs=None, const=None, default='model.pt', type=<class 'str'>, choices=None, help='path to save the final model', metavar=None)"
      ]
     },
     "execution_count": 36,
     "metadata": {},
     "output_type": "execute_result"
    }
   ],
   "source": [
    "import argparse\n",
    "parser = argparse.ArgumentParser(description='DL19_FinalProject_PyTorch')\n",
    "parser.add_argument('--save', type=str, default='model.pt',\n",
    "                    help='path to save the final model')"
   ]
  },
  {
   "cell_type": "code",
   "execution_count": 2,
   "metadata": {},
   "outputs": [],
   "source": [
    "import sys"
   ]
  },
  {
   "cell_type": "code",
   "execution_count": 3,
   "metadata": {},
   "outputs": [
    {
     "data": {
      "text/plain": [
       "bool"
      ]
     },
     "execution_count": 3,
     "metadata": {},
     "output_type": "execute_result"
    }
   ],
   "source": [
    "type(True)"
   ]
  },
  {
   "cell_type": "code",
   "execution_count": 4,
   "metadata": {},
   "outputs": [
    {
     "name": "stdout",
     "output_type": "stream",
     "text": [
      "Try"
     ]
    }
   ],
   "source": [
    "#https://stackoverflow.com/questions/15020200/python-how-to-send-output-to-both-file-and-terminal\n",
    "# https://stackoverflow.com/questions/33178514/how-do-i-save-print-statements-when-running-a-program-in-slurm\n",
    "\n",
    "message='Try'\n",
    "sys.stdout.write(message)"
   ]
  },
  {
   "cell_type": "markdown",
   "metadata": {},
   "source": [
    "_ 是被当作一个变量的，平时只是为了方便，并不是真的把输出屏蔽掉"
   ]
  },
  {
   "cell_type": "code",
   "execution_count": 1,
   "metadata": {
    "ExecuteTime": {
     "end_time": "2019-05-04T18:48:18.112987Z",
     "start_time": "2019-05-04T18:48:18.109347Z"
    }
   },
   "outputs": [],
   "source": [
    "_=1"
   ]
  },
  {
   "cell_type": "code",
   "execution_count": 3,
   "metadata": {
    "ExecuteTime": {
     "end_time": "2019-05-04T18:50:45.466818Z",
     "start_time": "2019-05-04T18:50:45.460530Z"
    }
   },
   "outputs": [],
   "source": [
    "_1=2"
   ]
  },
  {
   "cell_type": "code",
   "execution_count": 4,
   "metadata": {
    "ExecuteTime": {
     "end_time": "2019-05-04T18:50:50.921628Z",
     "start_time": "2019-05-04T18:50:50.915357Z"
    }
   },
   "outputs": [],
   "source": [
    "_2 =3"
   ]
  },
  {
   "cell_type": "code",
   "execution_count": 5,
   "metadata": {
    "ExecuteTime": {
     "end_time": "2019-05-04T18:50:57.589746Z",
     "start_time": "2019-05-04T18:50:57.586713Z"
    }
   },
   "outputs": [],
   "source": [
    "del _,_1,_2"
   ]
  },
  {
   "cell_type": "code",
   "execution_count": 6,
   "metadata": {
    "ExecuteTime": {
     "end_time": "2019-05-04T18:51:04.918621Z",
     "start_time": "2019-05-04T18:51:04.692601Z"
    }
   },
   "outputs": [
    {
     "ename": "NameError",
     "evalue": "name '_' is not defined",
     "output_type": "error",
     "traceback": [
      "\u001b[0;31m---------------------------------------------------------------------------\u001b[0m",
      "\u001b[0;31mNameError\u001b[0m                                 Traceback (most recent call last)",
      "\u001b[0;32m<ipython-input-6-71e74fbf7a46>\u001b[0m in \u001b[0;36m<module>\u001b[0;34m\u001b[0m\n\u001b[0;32m----> 1\u001b[0;31m \u001b[0m_\u001b[0m\u001b[0;34m\u001b[0m\u001b[0m\n\u001b[0m",
      "\u001b[0;31mNameError\u001b[0m: name '_' is not defined"
     ]
    }
   ],
   "source": [
    "_\n"
   ]
  },
  {
   "cell_type": "code",
   "execution_count": 7,
   "metadata": {
    "ExecuteTime": {
     "end_time": "2019-05-04T18:51:08.731612Z",
     "start_time": "2019-05-04T18:51:08.722588Z"
    }
   },
   "outputs": [
    {
     "ename": "NameError",
     "evalue": "name '_1' is not defined",
     "output_type": "error",
     "traceback": [
      "\u001b[0;31m---------------------------------------------------------------------------\u001b[0m",
      "\u001b[0;31mNameError\u001b[0m                                 Traceback (most recent call last)",
      "\u001b[0;32m<ipython-input-7-2fee90e148a2>\u001b[0m in \u001b[0;36m<module>\u001b[0;34m\u001b[0m\n\u001b[0;32m----> 1\u001b[0;31m \u001b[0m_1\u001b[0m\u001b[0;34m\u001b[0m\u001b[0m\n\u001b[0m",
      "\u001b[0;31mNameError\u001b[0m: name '_1' is not defined"
     ]
    }
   ],
   "source": [
    "_1"
   ]
  },
  {
   "cell_type": "code",
   "execution_count": null,
   "metadata": {},
   "outputs": [],
   "source": []
  }
 ],
 "metadata": {
  "kernelspec": {
   "display_name": "Python 3",
   "language": "python",
   "name": "python3"
  },
  "language_info": {
   "codemirror_mode": {
    "name": "ipython",
    "version": 3
   },
   "file_extension": ".py",
   "mimetype": "text/x-python",
   "name": "python",
   "nbconvert_exporter": "python",
   "pygments_lexer": "ipython3",
   "version": "3.7.2"
  },
  "toc": {
   "base_numbering": 1,
   "nav_menu": {},
   "number_sections": true,
   "sideBar": true,
   "skip_h1_title": false,
   "title_cell": "Table of Contents",
   "title_sidebar": "Contents",
   "toc_cell": false,
   "toc_position": {},
   "toc_section_display": true,
   "toc_window_display": false
  },
  "varInspector": {
   "cols": {
    "lenName": 16,
    "lenType": 16,
    "lenVar": 40
   },
   "kernels_config": {
    "python": {
     "delete_cmd_postfix": "",
     "delete_cmd_prefix": "del ",
     "library": "var_list.py",
     "varRefreshCmd": "print(var_dic_list())"
    },
    "r": {
     "delete_cmd_postfix": ") ",
     "delete_cmd_prefix": "rm(",
     "library": "var_list.r",
     "varRefreshCmd": "cat(var_dic_list()) "
    }
   },
   "types_to_exclude": [
    "module",
    "function",
    "builtin_function_or_method",
    "instance",
    "_Feature"
   ],
   "window_display": false
  }
 },
 "nbformat": 4,
 "nbformat_minor": 2
}
